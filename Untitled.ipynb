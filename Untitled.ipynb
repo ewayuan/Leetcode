{
 "cells": [
  {
   "cell_type": "code",
   "execution_count": 1,
   "metadata": {},
   "outputs": [
    {
     "data": {
      "text/plain": []
     },
     "execution_count": 1,
     "metadata": {},
     "output_type": "execute_result"
    }
   ],
   "source": [
    "class Rectangle {\n",
    "    private:\n",
    "        double w;\n",
    "        double h;\n",
    "\n",
    "    public:\n",
    "\n",
    "        Rectangle(double w_, double h_) {\n",
    "            w = w_;\n",
    "            h = h_;\n",
    "        }\n",
    "        double area(void) {\n",
    "            return w * h;\n",
    "        }\n",
    "        double perimiter(void) {\n",
    "            return 2 * (w + h);\n",
    "        }\n",
    "};"
   ]
  },
  {
   "cell_type": "code",
   "execution_count": 2,
   "metadata": {},
   "outputs": [
    {
     "name": "stderr",
     "output_type": "stream",
     "text": [
      "In file included from input_line_5:1:\n",
      "In file included from /usr/local/Cellar/cling/0.5_2/libexec/include/cling/Interpreter/RuntimePrintValue.h:17:\n",
      "In file included from /Applications/Xcode.app/Contents/Developer/Toolchains/XcodeDefault.xctoolchain/usr/include/c++/v1/string:500:\n",
      "In file included from /Applications/Xcode.app/Contents/Developer/Toolchains/XcodeDefault.xctoolchain/usr/include/c++/v1/string_view:176:\n",
      "In file included from /Applications/Xcode.app/Contents/Developer/Toolchains/XcodeDefault.xctoolchain/usr/include/c++/v1/__string:56:\n",
      "In file included from /Applications/Xcode.app/Contents/Developer/Toolchains/XcodeDefault.xctoolchain/usr/include/c++/v1/algorithm:644:\n",
      "In file included from /Applications/Xcode.app/Contents/Developer/Toolchains/XcodeDefault.xctoolchain/usr/include/c++/v1/memory:660:\n",
      "In file included from /Applications/Xcode.app/Contents/Developer/Toolchains/XcodeDefault.xctoolchain/usr/include/c++/v1/iterator:416:\n",
      "In file included from /Applications/Xcode.app/Contents/Developer/Toolchains/XcodeDefault.xctoolchain/usr/include/c++/v1/iosfwd:90:\n",
      "In file included from /Applications/Xcode.app/Contents/Developer/Toolchains/XcodeDefault.xctoolchain/usr/include/c++/v1/wchar.h:119:\n",
      "\u001b[1m/Applications/Xcode.app/Contents/Developer/Platforms/MacOSX.platform/Developer/SDKs/MacOSX10.14.sdk/usr/include/wchar.h:89:10: \u001b[0m\u001b[0;1;31mfatal error: \u001b[0m\u001b[1m'stdarg.h' file not found\u001b[0m\n",
      "#include <stdarg.h>\n",
      "\u001b[0;1;32m         ^~~~~~~~~~\n",
      "\u001b[0m"
     ]
    },
    {
     "data": {
      "text/plain": [
       "(double) 20.000000\n"
      ]
     },
     "execution_count": 2,
     "metadata": {},
     "output_type": "execute_result"
    }
   ],
   "source": [
    "Rectangle r = Rectangle(5, 4);\n",
    "r.area();\n"
   ]
  },
  {
   "cell_type": "code",
   "execution_count": 3,
   "metadata": {},
   "outputs": [
    {
     "name": "stderr",
     "output_type": "stream",
     "text": [
      "In file included from input_line_6:2:\n",
      "In file included from /Applications/Xcode.app/Contents/Developer/Toolchains/XcodeDefault.xctoolchain/usr/include/c++/v1/iostream:38:\n",
      "In file included from /Applications/Xcode.app/Contents/Developer/Toolchains/XcodeDefault.xctoolchain/usr/include/c++/v1/ios:215:\n",
      "In file included from /Applications/Xcode.app/Contents/Developer/Toolchains/XcodeDefault.xctoolchain/usr/include/c++/v1/iosfwd:90:\n",
      "In file included from /Applications/Xcode.app/Contents/Developer/Toolchains/XcodeDefault.xctoolchain/usr/include/c++/v1/wchar.h:119:\n",
      "\u001b[1m/Applications/Xcode.app/Contents/Developer/Platforms/MacOSX.platform/Developer/SDKs/MacOSX10.14.sdk/usr/include/wchar.h:89:10: \u001b[0m\u001b[0;1;31mfatal error: \u001b[0m\u001b[1m'stdarg.h' file not found\u001b[0m\n",
      "#include <stdarg.h>\n",
      "\u001b[0;1;32m         ^~~~~~~~~~\n",
      "\u001b[0m"
     ]
    },
    {
     "ename": "ename",
     "evalue": "evalue",
     "output_type": "error",
     "traceback": []
    }
   ],
   "source": [
    "// 1\n",
    "#include <iostream>\n",
    "#include <vector>\n",
    "#include <numeric>\n",
    "#include <limits>\n",
    "\n",
    "using namespace std;\n",
    "\n",
    "\n",
    "/*请完成下面这个函数，实现题目要求的功能\n",
    "当然，你也可以不按照下面这个模板来作答，完全按照自己的想法来 ^-^ \n",
    "******************************开始写代码******************************/\n",
    "void subsetSums_helper(int index, vector < int >& elements,vector<vector<int>>& results, vector<int>& cur, int K ) {\n",
    "    int size = elements.size();\n",
    "    if (K == 0) {\n",
    "        results.push_back(cur);\n",
    "        return;\n",
    "    }\n",
    "    if (index > size) {\n",
    "        return;\n",
    "     }\n",
    "    //for (int i = index; i < n; i++) {\n",
    "        // 选\n",
    "        cur.push_back(elements[index]);\n",
    "        subsetSums_helper(index+1, elements,results,cur,K-elements[index]);\n",
    "        cur.pop_back();\n",
    "            \n",
    "        // 不选\n",
    "\n",
    "        subsetSums_helper(index+1, elements,results,cur,K);\n",
    "\n",
    "    //}\n",
    "}\n",
    "\n",
    "vector < vector < int > > subsetSums(vector < int > elements, int K) {\n",
    "    sort(elements.begin(), elements.end());\n",
    "    vector<vector<int>> results;\n",
    "    vector<int> cur;\n",
    "    int n = elements.size();\n",
    "    //vector<int> visited(n,0);\n",
    "    subsetSums_helper(0, elements,results,cur,K);\n",
    "    return results;\n",
    "}\n",
    "\n",
    "\n",
    "\n",
    "/******************************结束写代码******************************/\n",
    "\n",
    "\n",
    "int main() {\n",
    "    vector < vector < int > > res;\n",
    "\n",
    "    int _elements_size = 0;\n",
    "    cin >> _elements_size;\n",
    "    //cin.ignore (std::numeric_limits<std::streamsize>::max(), '\\n'); \n",
    "    vector<int> _elements;\n",
    "    int _elements_item;\n",
    "    for(int _elements_i=0; _elements_i<_elements_size; _elements_i++) {\n",
    "        cin >> _elements_item;\n",
    "        cout << \"_elements_item: \" << _elements_item << endl;\n",
    "        //cin.ignore (std::numeric_limits<std::streamsize>::max(), '\\n');\n",
    "        _elements.push_back(_elements_item);\n",
    "    }\n",
    "\n",
    "\n",
    "    int _K;\n",
    "    cin >> _K;\n",
    "    cin.ignore (std::numeric_limits<std::streamsize>::max(), '\\n');\n",
    "\n",
    "\n",
    "    cout << \"answer: \" << endl;\n",
    "    res = subsetSums(_elements, _K);\n",
    "    int res_size = res.size();\n",
    "    for(int res_i=0; res_i < res_size; res_i++) {\n",
    "        int res_i_size = res[res_i].size();\n",
    "        for(int res_j=0; res_j < res_i_size; res_j++) {\n",
    "            cout << res[res_i][res_j] << \" \";\n",
    "        }\n",
    "        cout << endl;\n",
    "    }\n",
    "\n",
    "    return 0;\n",
    "\n",
    "}"
   ]
  },
  {
   "cell_type": "code",
   "execution_count": 4,
   "metadata": {},
   "outputs": [
    {
     "name": "stderr",
     "output_type": "stream",
     "text": [
      "\u001b[1minput_line_7:2:14: \u001b[0m\u001b[0;1;31merror: \u001b[0m\u001b[1mexpected variable name or 'this' in lambda capture list\u001b[0m\n",
      " subsetSums([1,2,3,2,1],3)\n",
      "\u001b[0;1;32m             ^\n",
      "\u001b[0m\u001b[1m<<< cling interactive line includer >>>:1:1: \u001b[0m\u001b[0;1;31merror: \u001b[0m\u001b[1mexpected '}'\u001b[0m\n",
      "\u001b[0;1;32m^\n",
      "\u001b[0m\u001b[1minput_line_7:1:42: \u001b[0m\u001b[0;1;30mnote: \u001b[0mto match this '{'\u001b[0m\n",
      "void __cling_Un1Qu32(void* vpClingValue) {\n",
      "\u001b[0;1;32m                                         ^\n",
      "\u001b[0m"
     ]
    },
    {
     "ename": "ename",
     "evalue": "evalue",
     "output_type": "error",
     "traceback": []
    }
   ],
   "source": [
    "subsetSums([1,2,3,2,1],3)"
   ]
  }
 ],
 "metadata": {
  "kernelspec": {
   "display_name": "C++14",
   "language": "C++",
   "name": "cling-cpp14"
  },
  "language_info": {
   "codemirror_mode": "c++",
   "file_extension": ".c++",
   "mimetype": "text/x-c++src",
   "name": "c++"
  }
 },
 "nbformat": 4,
 "nbformat_minor": 2
}
